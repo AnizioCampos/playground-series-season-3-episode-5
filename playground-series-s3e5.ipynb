{
 "cells": [
  {
   "cell_type": "code",
   "execution_count": 18,
   "metadata": {},
   "outputs": [],
   "source": [
    "# Importing libraries\n",
    "import numpy as np\n",
    "import pandas as pd\n",
    "import matplotlib.pyplot as plt\n",
    "from sklearn.tree import DecisionTreeClassifier\n",
    "from sklearn.multiclass import OneVsRestClassifier\n",
    "from sklearn.model_selection import train_test_split, KFold\n",
    "from sklearn.metrics import accuracy_score, cohen_kappa_score\n",
    "from sklearn.ensemble import RandomForestClassifier\n",
    "from xgboost import XGBClassifier\n",
    "from sklearn.linear_model import LogisticRegression\n",
    "from lightgbm import LGBMClassifier\n",
    "from sklearn.neighbors import KNeighborsClassifier\n",
    "from sklearn.preprocessing import MinMaxScaler, StandardScaler, RobustScaler, Normalizer, QuantileTransformer, PowerTransformer, MaxAbsScaler, PolynomialFeatures"
   ]
  },
  {
   "cell_type": "code",
   "execution_count": 80,
   "metadata": {},
   "outputs": [
    {
     "name": "stdout",
     "output_type": "stream",
     "text": [
      "Cohen Kappa: 0.446 - Accuracy: 0.656\n",
      "Cohen Kappa: 0.265 - Accuracy: 0.570\n",
      "Cohen Kappa: 0.301 - Accuracy: 0.570\n",
      "Cohen Kappa: 0.293 - Accuracy: 0.581\n",
      "Cohen Kappa: 0.388 - Accuracy: 0.645\n",
      "Cohen Kappa: 0.509 - Accuracy: 0.710\n",
      "Cohen Kappa: 0.265 - Accuracy: 0.554\n",
      "Cohen Kappa: 0.335 - Accuracy: 0.576\n",
      "Cohen Kappa: 0.283 - Accuracy: 0.543\n",
      "Cohen Kappa: 0.351 - Accuracy: 0.630\n",
      "Cohen Kappa: 0.553 - Accuracy: 0.717\n",
      "\n",
      "Cohan Kappa Médio: 0.363\n",
      "Cohan Kappa Desvio Padrão: 0.095\n",
      "Accuracy Médio: 0.614\n",
      "\n"
     ]
    }
   ],
   "source": [
    "# specify the directory containing the data\n",
    "train = pd.read_csv(r'C:\\Users\\55219\\Desktop\\Competicoes\\kaggle competitions download -c playground-series-s3e5\\train.csv')\n",
    "test = pd.read_csv(r'C:\\Users\\55219\\Desktop\\Competicoes\\kaggle competitions download -c playground-series-s3e5\\test.csv')\n",
    "wineqt = train = pd.read_csv(r'C:\\Users\\55219\\Desktop\\Competicoes\\kaggle competitions download -c playground-series-s3e5\\WineQT.csv')\n",
    "\n",
    "# Retirando a coluna Id.\n",
    "train.drop(columns=['Id'], inplace=True)\n",
    "train = train.drop_duplicates()\n",
    " \n",
    "#train_wineqt = pd.concat([train, wineqt], axis=0)\n",
    "#train_wineqt = train_wineqt.drop_duplicates()\n",
    "\n",
    "#Features that will be using to train the model.\n",
    "features = ['fixed acidity', 'volatile acidity', 'citric acid', 'residual sugar','chlorides', 'free sulfur dioxide',\n",
    "             'total sulfur dioxide', 'density', 'pH', 'sulphates', 'alcohol']\n",
    "\n",
    "X = train[features].copy()\n",
    "y = train['quality'].copy()\n",
    " \n",
    "#Applying the logarithmic function in the column \"free sulfur dioxide\", improved my metric a little bit\n",
    "X['free sulfur dioxide'] = np.sqrt(X['free sulfur dioxide'])\n",
    "\n",
    "\n",
    "kf = KFold(n_splits=11, random_state=31, shuffle=True)\n",
    "\n",
    "lista_ck = []\n",
    "lista_acc = []\n",
    "\n",
    "#Implementing Cross validation so I can have more freedom to do thing inside it\n",
    "for tr, ts in kf.split(X, y):\n",
    "    Xtr, Xval = X.iloc[tr], X.iloc[ts]\n",
    "    ytr, yval = y.iloc[tr], y.iloc[ts]\n",
    "    \n",
    "    #Creating a Scaler\n",
    "    scaler = StandardScaler()\n",
    "    #Xtr = scaler.fit_transform(Xtr)\n",
    "    #Xval = scaler.fit_transform(Xval)\n",
    "\n",
    "    #Creating the model\n",
    "    model = RandomForestClassifier(n_estimators=400, max_depth=30, random_state=31)\n",
    "    #model = LGBMClassifier(n_estimators=200, learning_rate=0.322, max_depth=3 , random_state=31)\n",
    "\n",
    "    #Training the model.\n",
    "    model.fit(Xtr, ytr)\n",
    "\n",
    "    #Making predictions\n",
    "    pdt_ = model.predict(Xval)\n",
    "    #The metric for this competition is \"Cohen Kappa\" \n",
    "    ck = cohen_kappa_score(yval, pdt_)\n",
    "    acc = accuracy_score(yval, pdt_)\n",
    "    #print(Xtr.shape)\n",
    "    #print(Xval.shape)\n",
    "    #print(ytr.shape)\n",
    "    #print(yval.shape)\n",
    "    print('Cohen Kappa: {:.3f} - Accuracy: {:.3f}'.format(ck, acc))\n",
    "    lista_ck.append(ck)\n",
    "    lista_acc.append(acc)\n",
    "print('')\n",
    "print('Cohan Kappa Médio: {:.3f}'.format(np.mean(lista_ck)))\n",
    "print('Cohan Kappa Desvio Padrão: {:.3f}'.format(np.std(lista_ck)))\n",
    "\n",
    "print('Accuracy Médio: {:.3f}'.format(np.mean(lista_acc)))\n",
    "#primeiro cohen_kappa com dt e arvore de decisão - 0.19782921563924194\n",
    "print('')\n"
   ]
  },
  {
   "attachments": {},
   "cell_type": "markdown",
   "metadata": {},
   "source": [
    "# Observations:\n",
    "- There are a few duplicated rows in our original dataset, that causes data leakage."
   ]
  },
  {
   "cell_type": "code",
   "execution_count": null,
   "metadata": {},
   "outputs": [],
   "source": []
  }
 ],
 "metadata": {
  "kernelspec": {
   "display_name": "Python 3",
   "language": "python",
   "name": "python3"
  },
  "language_info": {
   "codemirror_mode": {
    "name": "ipython",
    "version": 3
   },
   "file_extension": ".py",
   "mimetype": "text/x-python",
   "name": "python",
   "nbconvert_exporter": "python",
   "pygments_lexer": "ipython3",
   "version": "3.8.3"
  },
  "vscode": {
   "interpreter": {
    "hash": "d5d64ae0fc5ca9e9e13eb58a8c599f3615ce2376de2738738decb47dc3c60820"
   }
  }
 },
 "nbformat": 4,
 "nbformat_minor": 4
}
